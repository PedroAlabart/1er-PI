{
 "cells": [
  {
   "cell_type": "markdown",
   "id": "c6e4fe74",
   "metadata": {},
   "source": [
    "# Exploratory Data Analysis (EDA)\n",
    "\n",
    "Introduction <a name=\"introduction\"></a>\n",
    "\n",
    "The goal of this notebook is to ensure the quality and consistency of the data loaded into the database.  \n",
    "We will check for:\n",
    "- Duplicate records in all tables\n",
    "- Foreign key integrity between related tables\n",
    "- Price consistency between `Producto` and `DetalleOrden`\n",
    "- Distribution of order and payment statuses"
   ]
  },
  {
   "cell_type": "markdown",
   "id": "a9823dcc",
   "metadata": {},
   "source": [
    "## Table of Contents\n",
    "\n",
    "1. [Introduction](#introduction)\n",
    "2. [Duplicate Check](#duplicate-check)\n",
    "3. [Foreign Key Consistency](#foreign-key-consistency)\n",
    "    - [User Foreign Keys](#user-foreign-keys)\n",
    "    - [Product Foreign Keys](#product-foreign-keys)\n",
    "4. [Price Consistency](#price-consistency)\n",
    "5. [Order and Payment Status Distribution](#order-and-payment-status-distribution)\n",
    "6. [Conclusions](#conclusions)"
   ]
  },
  {
   "cell_type": "code",
   "execution_count": null,
   "id": "ba4312de",
   "metadata": {},
   "outputs": [],
   "source": [
    "from database.database_connection import get_session\n",
    "from database.models import (\n",
    "    Usuario, Categoria, Producto, Orden, DetalleOrden,\n",
    "    DireccionEnvio, Carrito, MetodoPago, OrdenMetodoPago,\n",
    "    ResenaProducto, HistorialPago\n",
    ")\n",
    "from sqlalchemy import select, func\n",
    "from EDA_helper import find_invalid_user_references, find_invalid_product_references, check_duplicates"
   ]
  },
  {
   "cell_type": "code",
   "execution_count": 2,
   "id": "93d7cffa",
   "metadata": {},
   "outputs": [],
   "source": [
    "\n",
    "# Variable que vamos a usar durante distintos chequeos.\n",
    "tables = [Usuario,\n",
    "    Categoria,\n",
    "    Producto,\n",
    "    Orden,\n",
    "    DetalleOrden,\n",
    "    DireccionEnvio,\n",
    "    Carrito,\n",
    "    MetodoPago,\n",
    "    OrdenMetodoPago,\n",
    "    ResenaProducto,\n",
    "    HistorialPago]"
   ]
  },
  {
   "cell_type": "code",
   "execution_count": 3,
   "id": "6505cf20",
   "metadata": {},
   "outputs": [],
   "source": [
    "session = get_session()"
   ]
  },
  {
   "cell_type": "markdown",
   "id": "b233b04b",
   "metadata": {},
   "source": [
    "## 1. Duplicate Check <a name=\"duplicate-check\"></a>\n",
    "\n",
    "We verify that there are no duplicate records in any of the main tables.\n"
   ]
  },
  {
   "cell_type": "code",
   "execution_count": 4,
   "id": "eb37eb97",
   "metadata": {},
   "outputs": [
    {
     "name": "stdout",
     "output_type": "stream",
     "text": [
      "Quantity of repeated values in table Usuario : 0\n",
      "Quantity of repeated values in table Categoria : 0\n",
      "Quantity of repeated values in table Producto : 0\n",
      "Quantity of repeated values in table Orden : 0\n",
      "Quantity of repeated values in table DetalleOrden : 0\n",
      "Quantity of repeated values in table DireccionEnvio : 0\n",
      "Quantity of repeated values in table Carrito : 0\n",
      "Quantity of repeated values in table MetodoPago : 0\n",
      "Quantity of repeated values in table OrdenMetodoPago : 0\n",
      "Quantity of repeated values in table ResenaProducto : 0\n",
      "Quantity of repeated values in table HistorialPago : 0\n"
     ]
    }
   ],
   "source": [
    "check_duplicates(session, tables)"
   ]
  },
  {
   "cell_type": "markdown",
   "id": "823cc9cf",
   "metadata": {},
   "source": [
    "Los datos muestran que no hay valores repetidos en nuestra data"
   ]
  },
  {
   "cell_type": "markdown",
   "id": "c8929a9d",
   "metadata": {},
   "source": [
    "## 2. Foreign Key Consistency <a name=\"foreign-key-consistency\"></a>\n",
    "\n",
    "### 2.1 User Foreign Keys <a name=\"user-foreign-keys\"></a>\n",
    "\n",
    "We check that all foreign keys referencing users actually point to existing users in the `Usuario` table.\n",
    "\n",
    "---"
   ]
  },
  {
   "cell_type": "code",
   "execution_count": null,
   "id": "ad608056",
   "metadata": {},
   "outputs": [
    {
     "name": "stdout",
     "output_type": "stream",
     "text": [
      "ordenes: []\n",
      "carrito: []\n",
      "direcciones_envio: []\n",
      "resenas: []\n"
     ]
    }
   ],
   "source": [
    "resultados = find_invalid_user_references(session)\n",
    "for tabla, usuarios in resultados.items():\n",
    "    print(f\"{tabla}: {usuarios}\")"
   ]
  },
  {
   "cell_type": "markdown",
   "id": "0953bd3f",
   "metadata": {},
   "source": [
    "La lista vacia significa que no hay ningun carrito sin usuario valido."
   ]
  },
  {
   "cell_type": "markdown",
   "id": "cf933113",
   "metadata": {},
   "source": [
    "### 2.2 Product Foreign Keys <a name=\"product-foreign-keys\"></a>\n",
    "\n",
    "We check that all foreign keys referencing products actually point to existing products in the `Producto` table.\n",
    "\n",
    "---"
   ]
  },
  {
   "cell_type": "code",
   "execution_count": null,
   "id": "b667cd1d",
   "metadata": {},
   "outputs": [
    {
     "name": "stdout",
     "output_type": "stream",
     "text": [
      "detalle_ordenes: []\n",
      "carrito: []\n",
      "resenas: []\n"
     ]
    }
   ],
   "source": [
    "resultados = find_invalid_product_references(session)\n",
    "for tabla, productos in resultados.items():\n",
    "    print(f\"{tabla}: {productos}\")"
   ]
  },
  {
   "cell_type": "markdown",
   "id": "e7c07cf5",
   "metadata": {},
   "source": [
    "## 3. Price Consistency <a name=\"price-consistency\"></a>\n",
    "\n",
    "We compare the `precio_unitario` in `DetalleOrden` with the `precio` in `Producto` to detect any inconsistencies.\n",
    "\n",
    "---"
   ]
  },
  {
   "cell_type": "code",
   "execution_count": 7,
   "id": "48c18371",
   "metadata": {},
   "outputs": [
    {
     "name": "stdout",
     "output_type": "stream",
     "text": [
      "Número de coincidencias precio_unitario == precio: 0\n"
     ]
    }
   ],
   "source": [
    "stmt = (\n",
    "    select(func.count())\n",
    "    .select_from(DetalleOrden)            # aclaramos tabla base\n",
    "    .join(DetalleOrden.producto)          # join por relación ORM\n",
    "    .where(DetalleOrden.precio_unitario == Producto.precio)\n",
    ")\n",
    "\n",
    "result = session.execute(stmt).scalar_one()\n",
    "\n",
    "print(f\"Número de coincidencias precio_unitario == precio: {result}\")"
   ]
  },
  {
   "cell_type": "markdown",
   "id": "09b567ee",
   "metadata": {},
   "source": [
    "Como podemos ver, en ningun item de toda la lista, es congruente el precio que a parece en la tabla Producto, con la tabla DetalleOrden que tambien lleva el precio de cada producto."
   ]
  },
  {
   "cell_type": "markdown",
   "id": "468fc046",
   "metadata": {},
   "source": [
    "## 4. Dimension Data Distribution <a name=\"order-and-payment-status-distribution\"></a>\n",
    "\n",
    "We analyze and visualize the distribution of order statuses and payment statuses.\n",
    "\n",
    "---"
   ]
  },
  {
   "cell_type": "code",
   "execution_count": 8,
   "id": "74a9f92f",
   "metadata": {},
   "outputs": [
    {
     "name": "stdout",
     "output_type": "stream",
     "text": [
      "Cantidad de órdenes en estado Cancelado: 2510 (25.10%)\n",
      "Cantidad de órdenes en estado Completado: 2498 (24.98%)\n",
      "Cantidad de órdenes en estado Enviado: 2498 (24.98%)\n",
      "Cantidad de órdenes en estado Pendiente: 2494 (24.94%)\n"
     ]
    }
   ],
   "source": [
    "total_ordenes = session.execute(select(func.count(Orden.orden_id))).scalar_one()\n",
    "stmt = (\n",
    "    select(Orden.estado, func.count().label(\"cantidad\"))\n",
    "    .group_by(Orden.estado)\n",
    "    .order_by(func.count().desc())\n",
    ")\n",
    "\n",
    "result = session.execute(stmt).all()\n",
    "\n",
    "for estado, cantidad in result:\n",
    "    print(f\"Cantidad de órdenes en estado {estado}: {cantidad} ({cantidad / total_ordenes * 100:.2f}%)\")"
   ]
  },
  {
   "cell_type": "code",
   "execution_count": 9,
   "id": "e3f6e841",
   "metadata": {},
   "outputs": [
    {
     "name": "stdout",
     "output_type": "stream",
     "text": [
      "Cantidad de órdenes en estado Fallido: 2546 (25.46%)\n",
      "Cantidad de órdenes en estado Procesando: 2542 (25.42%)\n",
      "Cantidad de órdenes en estado Pagado: 2457 (24.57%)\n",
      "Cantidad de órdenes en estado Reembolsado: 2455 (24.55%)\n"
     ]
    }
   ],
   "source": [
    "total_historial_pagos = session.execute(select(func.count(HistorialPago.orden_id))).scalar_one()\n",
    "stmt = (\n",
    "    select(HistorialPago.estado_pago, func.count().label(\"cantidad\"))\n",
    "    .group_by(HistorialPago.estado_pago)\n",
    "    .order_by(func.count().desc())\n",
    ")\n",
    "\n",
    "result = session.execute(stmt).all()\n",
    "\n",
    "for estado, cantidad in result:\n",
    "    print(f\"Cantidad de órdenes en estado {estado}: {cantidad} ({cantidad / total_ordenes * 100:.2f}%)\")"
   ]
  },
  {
   "cell_type": "markdown",
   "id": "ddb24bbc",
   "metadata": {},
   "source": [
    "## Conclusions <a name=\"conclusions\"></a>\n",
    "\n",
    "- No duplicate values found in the tables.\n",
    "- All carts are linked to existing users.\n",
    "- All orders are linked to existing products.\n",
    "- No matches between `DetalleOrden.precio_unitario` and `Producto.precio`, which may indicate data inconsistencies.\n",
    "- No noise detected in the `HistorialPago` or `Orden` tables; both have a uniform data distribution.\n",
    "\n",
    "---"
   ]
  }
 ],
 "metadata": {
  "kernelspec": {
   "display_name": "venv",
   "language": "python",
   "name": "python3"
  },
  "language_info": {
   "codemirror_mode": {
    "name": "ipython",
    "version": 3
   },
   "file_extension": ".py",
   "mimetype": "text/x-python",
   "name": "python",
   "nbconvert_exporter": "python",
   "pygments_lexer": "ipython3",
   "version": "3.13.3"
  }
 },
 "nbformat": 4,
 "nbformat_minor": 5
}
