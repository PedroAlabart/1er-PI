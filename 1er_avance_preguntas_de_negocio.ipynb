{
 "cells": [
  {
   "cell_type": "markdown",
   "id": "ce95967c",
   "metadata": {},
   "source": [
    "# Business Questions Analysis\n",
    "\n",
    "This notebook explores which business questions can be answered with the current database, which cannot, and proposes new metrics for future analysis.\n",
    "\n",
    "---\n",
    "\n",
    "## Table of Contents\n",
    "\n",
    "1. [Possible Business Questions](#possible-business-questions)\n",
    "    - [1. Which day of the week has the most sales?](#day-of-week-sales)\n",
    "    - [2. What is the average amount paid by payment method?](#average-amount-by-payment-method)\n",
    "2. [Impossible Business Questions](#impossible-business-questions)\n",
    "    - [1. How many orders were paid using more than one payment method?](#multi-payment-orders)\n",
    "    - [2. How many users register per month?](#monthly-user-registrations)\n",
    "    - [3. How many products are currently out of stock?](#out-of-stock-products)\n",
    "3. [New Business Questions](#new-business-questions)\n"
   ]
  },
  {
   "cell_type": "code",
   "execution_count": 1,
   "id": "b4e60837",
   "metadata": {},
   "outputs": [],
   "source": [
    "from database.database_connection import get_session\n",
    "from database.models import (\n",
    "    Usuario, Categoria, Producto, Orden, DetalleOrden,\n",
    "    DireccionEnvio, Carrito, MetodoPago, OrdenMetodoPago,\n",
    "    ResenaProducto, HistorialPago\n",
    ")\n",
    "from sqlalchemy import select, func, extract"
   ]
  },
  {
   "cell_type": "code",
   "execution_count": 2,
   "id": "512d94bf",
   "metadata": {},
   "outputs": [],
   "source": [
    "session = get_session()"
   ]
  },
  {
   "cell_type": "markdown",
   "id": "3f339ca0",
   "metadata": {},
   "source": [
    "## 1. Possible Business Questions <a name=\"possible-business-questions\"></a>\n",
    "\n",
    "### 1.1 Which day of the week has the most sales? <a name=\"day-of-week-sales\"></a>\n",
    "\n",
    "We analyze the sales distribution by day of the week using the `fecha_orden` field from the `Orden` table.\n",
    "\n",
    "---"
   ]
  },
  {
   "cell_type": "code",
   "execution_count": 3,
   "id": "2d1ae83f",
   "metadata": {},
   "outputs": [
    {
     "name": "stdout",
     "output_type": "stream",
     "text": [
      "2024-09-09 09:10:27 1\n",
      "2024-09-29 09:10:27 0\n",
      "2024-11-03 09:10:27 0\n",
      "2024-09-14 09:10:27 6\n",
      "2025-04-11 09:10:27 5\n",
      "2025-06-26 09:10:27 4\n",
      "2024-08-14 09:10:27 3\n",
      "2025-04-17 09:10:27 4\n",
      "2024-08-03 09:10:27 6\n",
      "2024-08-26 09:10:27 1\n"
     ]
    }
   ],
   "source": [
    "stmt_check = (\n",
    "    select(\n",
    "        Orden.fecha_orden,\n",
    "        extract('dow', Orden.fecha_orden).label('dow')\n",
    "    )\n",
    "    .limit(10)\n",
    ")\n",
    "for fecha, dow in session.execute(stmt_check):\n",
    "    print(fecha, dow)"
   ]
  },
  {
   "cell_type": "markdown",
   "id": "2d5790db",
   "metadata": {},
   "source": [
    "### 1) ¿Qué día de la semana se generan más ventas?\n",
    "\n"
   ]
  },
  {
   "cell_type": "code",
   "execution_count": 4,
   "id": "a0cc4897",
   "metadata": {},
   "outputs": [
    {
     "name": "stdout",
     "output_type": "stream",
     "text": [
      "El día con más ventas es: Domingo con 1517 ventas\n",
      "\n",
      "Siguientes días con ventas:\n",
      "Sábado: 1486 ventas\n",
      "Lunes: 1415 ventas\n",
      "Miércoles: 1412 ventas\n",
      "Viernes: 1407 ventas\n",
      "Martes: 1385 ventas\n",
      "Jueves: 1378 ventas\n"
     ]
    }
   ],
   "source": [
    "from sqlalchemy import select, func, extract\n",
    "from database.models import Orden\n",
    "\n",
    "def imprimir_ventas_por_dia_semana(session):\n",
    "    stmt = (\n",
    "        select(\n",
    "            extract('dow', Orden.fecha_orden).label('dia_semana'),\n",
    "            func.count().label('cantidad')\n",
    "        )\n",
    "        .group_by('dia_semana')\n",
    "        .order_by(func.count().desc())\n",
    "    )\n",
    "\n",
    "    result = session.execute(stmt).all()\n",
    "\n",
    "    dias_nombre = {\n",
    "        0: 'Domingo',\n",
    "        1: 'Lunes',\n",
    "        2: 'Martes',\n",
    "        3: 'Miércoles',\n",
    "        4: 'Jueves',\n",
    "        5: 'Viernes',\n",
    "        6: 'Sábado'\n",
    "    }\n",
    "\n",
    "    if not result:\n",
    "        print(\"No hay datos de ventas.\")\n",
    "        return\n",
    "\n",
    "    # Día con más ventas\n",
    "    dia_top, cantidad_top = result[0]\n",
    "    print(f\"El día con más ventas es: {dias_nombre.get(int(dia_top), 'Desconocido')} con {cantidad_top} ventas\\n\")\n",
    "\n",
    "    # Lista los demás días con sus cantidades\n",
    "    print(\"Siguientes días con ventas:\")\n",
    "    for dia, cantidad in result[1:]:\n",
    "        print(f\"{dias_nombre.get(int(dia), 'Desconocido')}: {cantidad} ventas\")\n",
    "\n",
    "imprimir_ventas_por_dia_semana(session)\n"
   ]
  },
  {
   "cell_type": "code",
   "execution_count": null,
   "id": "3b9a0011",
   "metadata": {},
   "outputs": [],
   "source": []
  },
  {
   "cell_type": "markdown",
   "id": "5dd9a716",
   "metadata": {},
   "source": [
    "---\n",
    "## 2. Impossible Business Questions <a name=\"impossible-business-questions\"></a>\n",
    "\n",
    "### 2.1 How many orders were paid using more than one payment method? <a name=\"multi-payment-orders\"></a>\n",
    "\n",
    "Currently, the `OrdenMetodoPago` table does not allow tracking multiple payment methods per order, as each order appears only once.  \n",
    "To enable this analysis, consider implementing a Slowly Changing Dimension (SCD) Type 2 for payment methods.\n"
   ]
  },
  {
   "cell_type": "markdown",
   "id": "ce13864b",
   "metadata": {},
   "source": [
    "\n",
    "### 2.2 How many users register per month? <a name=\"monthly-user-registrations\"></a>\n",
    "\n",
    "This cannot be answered because the `Usuario` table does not contain a registration date.  \n",
    "Adding a `created_at` column would allow monthly registration analysis.\n"
   ]
  },
  {
   "cell_type": "markdown",
   "id": "3ba08479",
   "metadata": {},
   "source": [
    "### 2.3 How many products are currently out of stock? <a name=\"out-of-stock-products\"></a>\n",
    "\n",
    "The code below shows that there are no products out of stock in the current database snapshot.  \n",
    "This could mean that out-of-stock products are deleted or that there were none at the time of data extraction.\n"
   ]
  },
  {
   "cell_type": "code",
   "execution_count": 5,
   "id": "df51d151",
   "metadata": {},
   "outputs": [
    {
     "name": "stdout",
     "output_type": "stream",
     "text": [
      "Cantidad de productos fuera de stock: 0\n"
     ]
    }
   ],
   "source": [
    "stmt = select(Producto).where(Producto.stock == 0)\n",
    "\n",
    "result = session.execute(stmt).scalars().all()\n",
    "print(f\"Cantidad de productos fuera de stock: {len(result)}\")\n"
   ]
  },
  {
   "cell_type": "markdown",
   "id": "b409d55b",
   "metadata": {},
   "source": [
    "## 3. New Business Questions <a name=\"new-business-questions\"></a>\n"
   ]
  },
  {
   "cell_type": "markdown",
   "id": "f5c78122",
   "metadata": {},
   "source": [
    "Cuantos productos tiene un carrito promedio. Por como se entrego la data, no es posible saber si los usuarios tienen siempre un mismo carrito y que despues hacen checkout, o si lo que agregan se termina sacando o comprando. \n",
    "Cambiaria que a un usuariose le asigne un carrito cuando agrega un producto, y se mantiene el mismo carrito hasta que se realice una compra. Si se vacia el carrito se sigue manteniendo el mismo pero esta vacio. Asi se podria a lo largo comparar como fueron evolucionando los carritos de un usuario."
   ]
  },
  {
   "cell_type": "code",
   "execution_count": null,
   "id": "1e280358",
   "metadata": {},
   "outputs": [],
   "source": []
  },
  {
   "cell_type": "code",
   "execution_count": null,
   "id": "e900b77e",
   "metadata": {},
   "outputs": [],
   "source": []
  }
 ],
 "metadata": {
  "kernelspec": {
   "display_name": "venv",
   "language": "python",
   "name": "python3"
  },
  "language_info": {
   "codemirror_mode": {
    "name": "ipython",
    "version": 3
   },
   "file_extension": ".py",
   "mimetype": "text/x-python",
   "name": "python",
   "nbconvert_exporter": "python",
   "pygments_lexer": "ipython3",
   "version": "3.13.3"
  }
 },
 "nbformat": 4,
 "nbformat_minor": 5
}
